{
 "cells": [
  {
   "cell_type": "code",
   "execution_count": 1,
   "metadata": {},
   "outputs": [],
   "source": [
    "import sys\n",
    "import os\n",
    "\n",
    "os.chdir( \"/notebook/nas-trainings/arne/DGFISMA_term_extraction/\" )\n",
    "from user_scripts import generate_training_data, generate_training_data_from_cas, train, inference, evaluate"
   ]
  },
  {
   "cell_type": "code",
   "execution_count": 2,
   "metadata": {},
   "outputs": [],
   "source": [
    "generate_training_data_from_cas.main( \"/notebook/nas-trainings/arne/DGFISMA_term_extraction/tests/files/test_files/minio_folder_test\" ,\\\n",
    "                                      \"/notebook/nas-trainings/arne/DGFISMA_term_extraction/media/typesystem_user.xml\" ,\\\n",
    "                                      '/notebook/nas-trainings/arne/DGFISMA_term_extraction/media/TermExtraction.config',\\\n",
    "                                      \"/notebook/nas-trainings/arne/DGFISMA_term_extraction/DATA/definitions/whitelist_terms_test.txt\",\\\n",
    "                                      \"/notebook/nas-trainings/arne/DGFISMA_term_extraction/DATA/definitions/training_set_def_test.txt\",\\\n",
    "                                      \"/notebook/nas-trainings/arne/DGFISMA_term_extraction/DATA/definitions/training_set_def_test.processed.txt\",\n",
    "                                    users=[ 'user1', 'user2'  ]\n",
    "                                    )"
   ]
  },
  {
   "cell_type": "code",
   "execution_count": 3,
   "metadata": {},
   "outputs": [],
   "source": [
    "generate_training_data.main( \"/notebook/nas-trainings/arne/DGFISMA_term_extraction/DATA/definitions/training_set_def.processed\",\\\n",
    "                            \"/notebook/nas-trainings/arne/DGFISMA_term_extraction/DATA/definitions/dgfisma_bio_tag_test.csv\",\\\n",
    "                            seq_length=75\n",
    "                           )"
   ]
  },
  {
   "cell_type": "code",
   "execution_count": 3,
   "metadata": {
    "scrolled": true
   },
   "outputs": [
    {
     "name": "stdout",
     "output_type": "stream",
     "text": [
      "device: cuda:0; numbers of gpus available 2. Name of the device: GeForce RTX 2080 Ti\n"
     ]
    },
    {
     "data": {
      "application/vnd.jupyter.widget-view+json": {
       "model_id": "586d636035ff4cc493994f62b453b2cb",
       "version_major": 2,
       "version_minor": 0
      },
      "text/plain": [
       "HBox(children=(HTML(value='Downloading'), FloatProgress(value=0.0, max=433.0), HTML(value='')))"
      ]
     },
     "metadata": {},
     "output_type": "display_data"
    },
    {
     "name": "stdout",
     "output_type": "stream",
     "text": [
      "\n"
     ]
    },
    {
     "data": {
      "application/vnd.jupyter.widget-view+json": {
       "model_id": "e7baaf8070254ceebf6d9a289d9b0dd2",
       "version_major": 2,
       "version_minor": 0
      },
      "text/plain": [
       "HBox(children=(HTML(value='Downloading'), FloatProgress(value=0.0, max=440473133.0), HTML(value='')))"
      ]
     },
     "metadata": {},
     "output_type": "display_data"
    },
    {
     "name": "stdout",
     "output_type": "stream",
     "text": [
      "\n"
     ]
    },
    {
     "name": "stderr",
     "output_type": "stream",
     "text": [
      "Some weights of the model checkpoint at bert-base-uncased were not used when initializing BertForTokenClassification: ['cls.predictions.bias', 'cls.predictions.transform.dense.weight', 'cls.predictions.transform.dense.bias', 'cls.predictions.decoder.weight', 'cls.seq_relationship.weight', 'cls.seq_relationship.bias', 'cls.predictions.transform.LayerNorm.weight', 'cls.predictions.transform.LayerNorm.bias']\n",
      "- This IS expected if you are initializing BertForTokenClassification from the checkpoint of a model trained on another task or with another architecture (e.g. initializing a BertForSequenceClassification model from a BertForPretraining model).\n",
      "- This IS NOT expected if you are initializing BertForTokenClassification from the checkpoint of a model that you expect to be exactly identical (initializing a BertForSequenceClassification model from a BertForSequenceClassification model).\n",
      "Some weights of BertForTokenClassification were not initialized from the model checkpoint at bert-base-uncased and are newly initialized: ['classifier.weight', 'classifier.bias']\n",
      "You should probably TRAIN this model on a down-stream task to be able to use it for predictions and inference.\n",
      "Epoch:   0%|          | 0/20 [00:00<?, ?it/s]"
     ]
    },
    {
     "name": "stdout",
     "output_type": "stream",
     "text": [
      "Average train loss: 0.5767707626024882\n",
      "Validation loss: 0.4928261637687683\n",
      "Validation Accuracy: 0.8407335907335908\n",
      "Validation F1-Score: 0.0\n",
      "\n"
     ]
    },
    {
     "name": "stderr",
     "output_type": "stream",
     "text": [
      "Epoch:   5%|▌         | 1/20 [00:06<01:59,  6.30s/it]"
     ]
    },
    {
     "name": "stdout",
     "output_type": "stream",
     "text": [
      "Average train loss: 0.27325309150748783\n",
      "Validation loss: 0.5097658634185791\n",
      "Validation Accuracy: 0.8638996138996139\n",
      "Validation F1-Score: 0.4383561643835617\n",
      "\n"
     ]
    },
    {
     "name": "stderr",
     "output_type": "stream",
     "text": [
      "Epoch:  10%|█         | 2/20 [00:12<01:51,  6.21s/it]"
     ]
    },
    {
     "name": "stdout",
     "output_type": "stream",
     "text": [
      "Average train loss: 0.18003535436259377\n",
      "Validation loss: 0.5349068641662598\n",
      "Validation Accuracy: 0.8803088803088803\n",
      "Validation F1-Score: 0.5675675675675675\n",
      "\n"
     ]
    },
    {
     "name": "stderr",
     "output_type": "stream",
     "text": [
      "Epoch:  15%|█▌        | 3/20 [00:18<01:44,  6.14s/it]"
     ]
    },
    {
     "name": "stdout",
     "output_type": "stream",
     "text": [
      "Average train loss: 0.1457041245367792\n",
      "Validation loss: 0.5685074329376221\n",
      "Validation Accuracy: 0.88996138996139\n",
      "Validation F1-Score: 0.45333333333333325\n",
      "\n"
     ]
    },
    {
     "name": "stderr",
     "output_type": "stream",
     "text": [
      "Epoch:  20%|██        | 4/20 [00:24<01:37,  6.08s/it]"
     ]
    },
    {
     "name": "stdout",
     "output_type": "stream",
     "text": [
      "Average train loss: 0.11410702847772175\n",
      "Validation loss: 0.5638673901557922\n",
      "Validation Accuracy: 0.9054054054054054\n",
      "Validation F1-Score: 0.5915492957746479\n",
      "\n"
     ]
    },
    {
     "name": "stderr",
     "output_type": "stream",
     "text": [
      "Epoch:  25%|██▌       | 5/20 [00:30<01:30,  6.04s/it]"
     ]
    },
    {
     "name": "stdout",
     "output_type": "stream",
     "text": [
      "Average train loss: 0.0930391318268246\n",
      "Validation loss: 0.5674610733985901\n",
      "Validation Accuracy: 0.9063706563706564\n",
      "Validation F1-Score: 0.5833333333333334\n",
      "\n"
     ]
    },
    {
     "name": "stderr",
     "output_type": "stream",
     "text": [
      "Epoch:  30%|███       | 6/20 [00:36<01:24,  6.02s/it]"
     ]
    },
    {
     "name": "stdout",
     "output_type": "stream",
     "text": [
      "Average train loss: 0.07125519050492181\n",
      "Validation loss: 0.553130567073822\n",
      "Validation Accuracy: 0.915057915057915\n",
      "Validation F1-Score: 0.6478873239436619\n",
      "\n"
     ]
    },
    {
     "name": "stderr",
     "output_type": "stream",
     "text": [
      "Epoch:  35%|███▌      | 7/20 [00:42<01:17,  5.99s/it]"
     ]
    },
    {
     "name": "stdout",
     "output_type": "stream",
     "text": [
      "Average train loss: 0.054556152058972254\n",
      "Validation loss: 0.5627995729446411\n",
      "Validation Accuracy: 0.9198841698841699\n",
      "Validation F1-Score: 0.7246376811594203\n",
      "\n"
     ]
    },
    {
     "name": "stderr",
     "output_type": "stream",
     "text": [
      "Epoch:  40%|████      | 8/20 [00:47<01:11,  5.97s/it]"
     ]
    },
    {
     "name": "stdout",
     "output_type": "stream",
     "text": [
      "Average train loss: 0.04972560082872709\n",
      "Validation loss: 0.5607500076293945\n",
      "Validation Accuracy: 0.9256756756756757\n",
      "Validation F1-Score: 0.7352941176470588\n",
      "\n"
     ]
    },
    {
     "name": "stderr",
     "output_type": "stream",
     "text": [
      "Epoch:  45%|████▌     | 9/20 [00:53<01:05,  5.96s/it]"
     ]
    },
    {
     "name": "stdout",
     "output_type": "stream",
     "text": [
      "Average train loss: 0.039541199803352356\n",
      "Validation loss: 0.5639782547950745\n",
      "Validation Accuracy: 0.9285714285714286\n",
      "Validation F1-Score: 0.823529411764706\n",
      "\n"
     ]
    },
    {
     "name": "stderr",
     "output_type": "stream",
     "text": [
      "Epoch:  50%|█████     | 10/20 [00:59<00:59,  5.95s/it]"
     ]
    },
    {
     "name": "stdout",
     "output_type": "stream",
     "text": [
      "Average train loss: 0.03158092457387182\n",
      "Validation loss: 0.5667281150817871\n",
      "Validation Accuracy: 0.9266409266409267\n",
      "Validation F1-Score: 0.7692307692307692\n",
      "\n"
     ]
    },
    {
     "name": "stderr",
     "output_type": "stream",
     "text": [
      "Epoch:  55%|█████▌    | 11/20 [01:05<00:53,  5.93s/it]"
     ]
    },
    {
     "name": "stdout",
     "output_type": "stream",
     "text": [
      "Average train loss: 0.02312755651978983\n",
      "Validation loss: 0.5757967233657837\n",
      "Validation Accuracy: 0.9256756756756757\n",
      "Validation F1-Score: 0.742857142857143\n",
      "\n"
     ]
    },
    {
     "name": "stderr",
     "output_type": "stream",
     "text": [
      "Epoch:  60%|██████    | 12/20 [01:11<00:47,  5.93s/it]"
     ]
    },
    {
     "name": "stdout",
     "output_type": "stream",
     "text": [
      "Average train loss: 0.022095562890172005\n",
      "Validation loss: 0.5888298749923706\n",
      "Validation Accuracy: 0.9247104247104247\n",
      "Validation F1-Score: 0.7692307692307692\n",
      "\n"
     ]
    },
    {
     "name": "stderr",
     "output_type": "stream",
     "text": [
      "Epoch:  65%|██████▌   | 13/20 [01:17<00:41,  5.94s/it]"
     ]
    },
    {
     "name": "stdout",
     "output_type": "stream",
     "text": [
      "Average train loss: 0.017172267453538045\n",
      "Validation loss: 0.5889666676521301\n",
      "Validation Accuracy: 0.9247104247104247\n",
      "Validation F1-Score: 0.7164179104477612\n",
      "\n"
     ]
    },
    {
     "name": "stderr",
     "output_type": "stream",
     "text": [
      "Epoch:  70%|███████   | 14/20 [01:23<00:35,  5.94s/it]"
     ]
    },
    {
     "name": "stdout",
     "output_type": "stream",
     "text": [
      "Average train loss: 0.01357490031255616\n",
      "Validation loss: 0.5940626263618469\n",
      "Validation Accuracy: 0.9276061776061776\n",
      "Validation F1-Score: 0.7352941176470588\n",
      "\n"
     ]
    },
    {
     "name": "stderr",
     "output_type": "stream",
     "text": [
      "Epoch:  75%|███████▌  | 15/20 [01:29<00:29,  5.93s/it]"
     ]
    },
    {
     "name": "stdout",
     "output_type": "stream",
     "text": [
      "Average train loss: 0.011055030316735307\n",
      "Validation loss: 0.5836458802223206\n",
      "Validation Accuracy: 0.9285714285714286\n",
      "Validation F1-Score: 0.7647058823529411\n",
      "\n"
     ]
    },
    {
     "name": "stderr",
     "output_type": "stream",
     "text": [
      "Epoch:  80%|████████  | 16/20 [01:35<00:23,  5.93s/it]"
     ]
    },
    {
     "name": "stdout",
     "output_type": "stream",
     "text": [
      "Average train loss: 0.011593615067087941\n",
      "Validation loss: 0.5783464312553406\n",
      "Validation Accuracy: 0.9285714285714286\n",
      "Validation F1-Score: 0.7462686567164178\n",
      "\n"
     ]
    },
    {
     "name": "stderr",
     "output_type": "stream",
     "text": [
      "Epoch:  85%|████████▌ | 17/20 [01:41<00:17,  5.93s/it]"
     ]
    },
    {
     "name": "stdout",
     "output_type": "stream",
     "text": [
      "Average train loss: 0.01094023117588626\n",
      "Validation loss: 0.5844749212265015\n",
      "Validation Accuracy: 0.9285714285714286\n",
      "Validation F1-Score: 0.7246376811594203\n",
      "\n"
     ]
    },
    {
     "name": "stderr",
     "output_type": "stream",
     "text": [
      "Epoch:  90%|█████████ | 18/20 [01:47<00:11,  5.93s/it]"
     ]
    },
    {
     "name": "stdout",
     "output_type": "stream",
     "text": [
      "Average train loss: 0.010880843322310183\n",
      "Validation loss: 0.5875632762908936\n",
      "Validation Accuracy: 0.9285714285714286\n",
      "Validation F1-Score: 0.7246376811594203\n",
      "\n"
     ]
    },
    {
     "name": "stderr",
     "output_type": "stream",
     "text": [
      "Epoch:  95%|█████████▌| 19/20 [01:53<00:05,  5.93s/it]"
     ]
    },
    {
     "name": "stdout",
     "output_type": "stream",
     "text": [
      "Average train loss: 0.010249107093032863\n",
      "Validation loss: 0.5889527201652527\n",
      "Validation Accuracy: 0.9285714285714286\n",
      "Validation F1-Score: 0.7761194029850748\n",
      "\n"
     ]
    },
    {
     "name": "stderr",
     "output_type": "stream",
     "text": [
      "Epoch: 100%|██████████| 20/20 [01:59<00:00,  5.96s/it]\n"
     ]
    }
   ],
   "source": [
    "train.main(  \"/notebook/nas-trainings/arne/DGFISMA_term_extraction/DATA/definitions/dgfisma_bio_tag.csv\",\\\n",
    "             \"/notebook/nas-trainings/arne/DGFISMA_term_extraction/MODELS/Fine_tuned_models/dgfisma_bio_tag\",\\\n",
    "             seq_length=75,\\\n",
    "             epochs=20,\\\n",
    "             seed=2020)"
   ]
  },
  {
   "cell_type": "code",
   "execution_count": 2,
   "metadata": {},
   "outputs": [
    {
     "name": "stdout",
     "output_type": "stream",
     "text": [
      "Inference (Bert BIO tagging) on cpu.\n",
      "Bert BIO tagging on 33 sentences took 0.9291629791259766 seconds (  1771.4868510455733 words/s ) \n"
     ]
    }
   ],
   "source": [
    "inference.main(  \"/notebook/nas-trainings/arne/DGFISMA_term_extraction/DATA/definitions/test_sentences2.txt\",\\\n",
    "             \"/notebook/nas-trainings/arne/DGFISMA_term_extraction/MODELS/Fine_tuned_models/dgfisma_bio_tag\",\\\n",
    "              \"/notebook/nas-trainings/arne/DGFISMA_term_extraction/DATA/definitions/results_test_sentences2.csv\"              \n",
    "              )"
   ]
  },
  {
   "cell_type": "code",
   "execution_count": null,
   "metadata": {},
   "outputs": [],
   "source": []
  },
  {
   "cell_type": "code",
   "execution_count": 16,
   "metadata": {},
   "outputs": [
    {
     "name": "stdout",
     "output_type": "stream",
     "text": [
      "              precision    recall  f1-score   support\n",
      "\n",
      "           _       0.86      0.76      0.81        33\n",
      "\n",
      "   micro avg       0.86      0.76      0.81        33\n",
      "   macro avg       0.86      0.76      0.81        33\n",
      "weighted avg       0.86      0.76      0.81        33\n",
      "\n"
     ]
    }
   ],
   "source": [
    "scores=evaluate.main( \"/notebook/nas-trainings/arne/DGFISMA_term_extraction/DATA/definitions/results_test_sentences.csv\", \\\n",
    "                    \"/notebook/nas-trainings/arne/DGFISMA_term_extraction/DATA/definitions/results-gold_standard.csv\"\n",
    ")"
   ]
  },
  {
   "cell_type": "code",
   "execution_count": null,
   "metadata": {},
   "outputs": [],
   "source": []
  },
  {
   "cell_type": "markdown",
   "metadata": {},
   "source": [
    "#### END"
   ]
  },
  {
   "cell_type": "code",
   "execution_count": null,
   "metadata": {},
   "outputs": [],
   "source": [
    "           precision    recall  f1-score   support\n",
    "\n",
    "           _       0.86      0.76      0.81        33\n",
    "\n",
    "   micro avg       0.86      0.76      0.81        33\n",
    "   macro avg       0.86      0.76      0.81        33\n",
    "weighted avg       0.86      0.76      0.81        33\n"
   ]
  }
 ],
 "metadata": {
  "kernelspec": {
   "display_name": "Python 3",
   "language": "python",
   "name": "python3"
  },
  "language_info": {
   "codemirror_mode": {
    "name": "ipython",
    "version": 3
   },
   "file_extension": ".py",
   "mimetype": "text/x-python",
   "name": "python",
   "nbconvert_exporter": "python",
   "pygments_lexer": "ipython3",
   "version": "3.7.10"
  }
 },
 "nbformat": 4,
 "nbformat_minor": 4
}
