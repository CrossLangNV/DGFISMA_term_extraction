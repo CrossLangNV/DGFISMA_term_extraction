{
 "cells": [
  {
   "cell_type": "code",
   "execution_count": 2,
   "metadata": {},
   "outputs": [],
   "source": [
    "import sys\n",
    "import os\n",
    "#sys.path.append( \"/notebook/nas-trainings/arne/OCCAM/NER_with_BERT\" )\n",
    "#os.chdir( \"/notebook/nas-trainings/arne/OCCAM/NER_with_BERT\" )\n",
    "os.chdir( \"/notebook/nas-trainings/arne/DGFISMA_term_extraction/\" )\n",
    "from user_scripts import generate_training_data, train, inference, evaluate"
   ]
  },
  {
   "cell_type": "code",
   "execution_count": 4,
   "metadata": {},
   "outputs": [],
   "source": [
    "generate_training_data.main( \"/notebook/nas-trainings/arne/DGFISMA_term_extraction/DATA/definitions/training_set_def.processed\",\\\n",
    "                            \"/notebook/nas-trainings/arne/DGFISMA_term_extraction/DATA/definitions/dgfisma_bio_tag.csv\",\\\n",
    "                            seq_length=75\n",
    "                           )"
   ]
  },
  {
   "cell_type": "code",
   "execution_count": 5,
   "metadata": {
    "scrolled": true
   },
   "outputs": [
    {
     "name": "stdout",
     "output_type": "stream",
     "text": [
      "device: cuda:0; numbers of gpus available 2. Name of the device: GeForce RTX 2080 Ti\n"
     ]
    },
    {
     "data": {
      "application/vnd.jupyter.widget-view+json": {
       "model_id": "2d89148f03bd4abbae6060d687d5242e",
       "version_major": 2,
       "version_minor": 0
      },
      "text/plain": [
       "HBox(children=(HTML(value='Downloading'), FloatProgress(value=0.0, max=433.0), HTML(value='')))"
      ]
     },
     "metadata": {},
     "output_type": "display_data"
    },
    {
     "name": "stdout",
     "output_type": "stream",
     "text": [
      "\n"
     ]
    },
    {
     "data": {
      "application/vnd.jupyter.widget-view+json": {
       "model_id": "f8f6f91389d545e8889f99226c174362",
       "version_major": 2,
       "version_minor": 0
      },
      "text/plain": [
       "HBox(children=(HTML(value='Downloading'), FloatProgress(value=0.0, max=440473133.0), HTML(value='')))"
      ]
     },
     "metadata": {},
     "output_type": "display_data"
    },
    {
     "name": "stdout",
     "output_type": "stream",
     "text": [
      "\n"
     ]
    },
    {
     "name": "stderr",
     "output_type": "stream",
     "text": [
      "Some weights of the model checkpoint at bert-base-uncased were not used when initializing BertForTokenClassification: ['cls.predictions.bias', 'cls.predictions.transform.dense.weight', 'cls.predictions.transform.dense.bias', 'cls.predictions.decoder.weight', 'cls.seq_relationship.weight', 'cls.seq_relationship.bias', 'cls.predictions.transform.LayerNorm.weight', 'cls.predictions.transform.LayerNorm.bias']\n",
      "- This IS expected if you are initializing BertForTokenClassification from the checkpoint of a model trained on another task or with another architecture (e.g. initializing a BertForSequenceClassification model from a BertForPretraining model).\n",
      "- This IS NOT expected if you are initializing BertForTokenClassification from the checkpoint of a model that you expect to be exactly identical (initializing a BertForSequenceClassification model from a BertForSequenceClassification model).\n",
      "Some weights of BertForTokenClassification were not initialized from the model checkpoint at bert-base-uncased and are newly initialized: ['classifier.weight', 'classifier.bias']\n",
      "You should probably TRAIN this model on a down-stream task to be able to use it for predictions and inference.\n",
      "Epoch:   0%|          | 0/20 [00:00<?, ?it/s]"
     ]
    },
    {
     "name": "stdout",
     "output_type": "stream",
     "text": [
      "Average train loss: 0.7214435305860307\n",
      "Validation loss: 0.4898463487625122\n",
      "Validation Accuracy: 0.8407335907335908\n",
      "Validation F1-Score: 0.0\n",
      "\n"
     ]
    },
    {
     "name": "stderr",
     "output_type": "stream",
     "text": [
      "Epoch:   5%|▌         | 1/20 [00:05<01:51,  5.86s/it]"
     ]
    },
    {
     "name": "stdout",
     "output_type": "stream",
     "text": [
      "Average train loss: 0.3238638871245914\n",
      "Validation loss: 0.5004369616508484\n",
      "Validation Accuracy: 0.8687258687258688\n",
      "Validation F1-Score: 0.3384615384615385\n",
      "\n"
     ]
    },
    {
     "name": "stderr",
     "output_type": "stream",
     "text": [
      "Epoch:  10%|█         | 2/20 [00:11<01:45,  5.87s/it]"
     ]
    },
    {
     "name": "stdout",
     "output_type": "stream",
     "text": [
      "Average train loss: 0.21454686919848123\n",
      "Validation loss: 0.5376644730567932\n",
      "Validation Accuracy: 0.8754826254826255\n",
      "Validation F1-Score: 0.5142857142857142\n",
      "\n"
     ]
    },
    {
     "name": "stderr",
     "output_type": "stream",
     "text": [
      "Epoch:  15%|█▌        | 3/20 [00:17<01:40,  5.89s/it]"
     ]
    },
    {
     "name": "stdout",
     "output_type": "stream",
     "text": [
      "Average train loss: 0.17000281396839353\n",
      "Validation loss: 0.5496171712875366\n",
      "Validation Accuracy: 0.888030888030888\n",
      "Validation F1-Score: 0.53125\n",
      "\n"
     ]
    },
    {
     "name": "stderr",
     "output_type": "stream",
     "text": [
      "Epoch:  20%|██        | 4/20 [00:23<01:34,  5.90s/it]"
     ]
    },
    {
     "name": "stdout",
     "output_type": "stream",
     "text": [
      "Average train loss: 0.11649837924374475\n",
      "Validation loss: 0.5359439849853516\n",
      "Validation Accuracy: 0.8996138996138996\n",
      "Validation F1-Score: 0.37681159420289856\n",
      "\n"
     ]
    },
    {
     "name": "stderr",
     "output_type": "stream",
     "text": [
      "Epoch:  25%|██▌       | 5/20 [00:29<01:28,  5.90s/it]"
     ]
    },
    {
     "name": "stdout",
     "output_type": "stream",
     "text": [
      "Average train loss: 0.09033878023425738\n",
      "Validation loss: 0.5371268391609192\n",
      "Validation Accuracy: 0.9063706563706564\n",
      "Validation F1-Score: 0.5671641791044776\n",
      "\n"
     ]
    },
    {
     "name": "stderr",
     "output_type": "stream",
     "text": [
      "Epoch:  30%|███       | 6/20 [00:35<01:22,  5.91s/it]"
     ]
    },
    {
     "name": "stdout",
     "output_type": "stream",
     "text": [
      "Average train loss: 0.0730796025858985\n",
      "Validation loss: 0.531865119934082\n",
      "Validation Accuracy: 0.9198841698841699\n",
      "Validation F1-Score: 0.7164179104477612\n",
      "\n"
     ]
    },
    {
     "name": "stderr",
     "output_type": "stream",
     "text": [
      "Epoch:  35%|███▌      | 7/20 [00:41<01:16,  5.91s/it]"
     ]
    },
    {
     "name": "stdout",
     "output_type": "stream",
     "text": [
      "Average train loss: 0.056695242722829185\n",
      "Validation loss: 0.525858998298645\n",
      "Validation Accuracy: 0.9131274131274131\n",
      "Validation F1-Score: 0.6575342465753423\n",
      "\n"
     ]
    },
    {
     "name": "stderr",
     "output_type": "stream",
     "text": [
      "Epoch:  40%|████      | 8/20 [00:47<01:10,  5.91s/it]"
     ]
    },
    {
     "name": "stdout",
     "output_type": "stream",
     "text": [
      "Average train loss: 0.04340292399542199\n",
      "Validation loss: 0.5360023379325867\n",
      "Validation Accuracy: 0.915057915057915\n",
      "Validation F1-Score: 0.7536231884057971\n",
      "\n"
     ]
    },
    {
     "name": "stderr",
     "output_type": "stream",
     "text": [
      "Epoch:  45%|████▌     | 9/20 [00:53<01:05,  5.91s/it]"
     ]
    },
    {
     "name": "stdout",
     "output_type": "stream",
     "text": [
      "Average train loss: 0.03237530464927355\n",
      "Validation loss: 0.5214468240737915\n",
      "Validation Accuracy: 0.9218146718146718\n",
      "Validation F1-Score: 0.7027027027027026\n",
      "\n"
     ]
    },
    {
     "name": "stderr",
     "output_type": "stream",
     "text": [
      "Epoch:  50%|█████     | 10/20 [00:59<00:59,  5.91s/it]"
     ]
    },
    {
     "name": "stdout",
     "output_type": "stream",
     "text": [
      "Average train loss: 0.025125418686204486\n",
      "Validation loss: 0.535493791103363\n",
      "Validation Accuracy: 0.9208494208494209\n",
      "Validation F1-Score: 0.8059701492537314\n",
      "\n"
     ]
    },
    {
     "name": "stderr",
     "output_type": "stream",
     "text": [
      "Epoch:  55%|█████▌    | 11/20 [01:05<00:53,  5.92s/it]"
     ]
    },
    {
     "name": "stdout",
     "output_type": "stream",
     "text": [
      "Average train loss: 0.020309192231959768\n",
      "Validation loss: 0.5191419720649719\n",
      "Validation Accuracy: 0.9295366795366795\n",
      "Validation F1-Score: 0.8059701492537314\n",
      "\n"
     ]
    },
    {
     "name": "stderr",
     "output_type": "stream",
     "text": [
      "Epoch:  60%|██████    | 12/20 [01:10<00:47,  5.91s/it]"
     ]
    },
    {
     "name": "stdout",
     "output_type": "stream",
     "text": [
      "Average train loss: 0.014097065043946108\n",
      "Validation loss: 0.519001305103302\n",
      "Validation Accuracy: 0.9333976833976834\n",
      "Validation F1-Score: 0.823529411764706\n",
      "\n"
     ]
    },
    {
     "name": "stderr",
     "output_type": "stream",
     "text": [
      "Epoch:  65%|██████▌   | 13/20 [01:16<00:41,  5.91s/it]"
     ]
    },
    {
     "name": "stdout",
     "output_type": "stream",
     "text": [
      "Average train loss: 0.014101695735007524\n",
      "Validation loss: 0.5342821478843689\n",
      "Validation Accuracy: 0.9314671814671814\n",
      "Validation F1-Score: 0.7647058823529411\n",
      "\n"
     ]
    },
    {
     "name": "stderr",
     "output_type": "stream",
     "text": [
      "Epoch:  70%|███████   | 14/20 [01:22<00:35,  5.91s/it]"
     ]
    },
    {
     "name": "stdout",
     "output_type": "stream",
     "text": [
      "Average train loss: 0.008539585991659097\n",
      "Validation loss: 0.543920636177063\n",
      "Validation Accuracy: 0.9314671814671814\n",
      "Validation F1-Score: 0.7647058823529411\n",
      "\n"
     ]
    },
    {
     "name": "stderr",
     "output_type": "stream",
     "text": [
      "Epoch:  75%|███████▌  | 15/20 [01:28<00:29,  5.91s/it]"
     ]
    },
    {
     "name": "stdout",
     "output_type": "stream",
     "text": [
      "Average train loss: 0.008959690445206232\n",
      "Validation loss: 0.5472912788391113\n",
      "Validation Accuracy: 0.9305019305019305\n",
      "Validation F1-Score: 0.7246376811594203\n",
      "\n"
     ]
    },
    {
     "name": "stderr",
     "output_type": "stream",
     "text": [
      "Epoch:  80%|████████  | 16/20 [01:34<00:23,  5.91s/it]"
     ]
    },
    {
     "name": "stdout",
     "output_type": "stream",
     "text": [
      "Average train loss: 0.008397381623379059\n",
      "Validation loss: 0.5469551086425781\n",
      "Validation Accuracy: 0.9314671814671814\n",
      "Validation F1-Score: 0.7647058823529411\n",
      "\n"
     ]
    },
    {
     "name": "stderr",
     "output_type": "stream",
     "text": [
      "Epoch:  85%|████████▌ | 17/20 [01:40<00:17,  5.91s/it]"
     ]
    },
    {
     "name": "stdout",
     "output_type": "stream",
     "text": [
      "Average train loss: 0.0072583867650892996\n",
      "Validation loss: 0.5474992990493774\n",
      "Validation Accuracy: 0.9324324324324325\n",
      "Validation F1-Score: 0.7941176470588235\n",
      "\n"
     ]
    },
    {
     "name": "stderr",
     "output_type": "stream",
     "text": [
      "Epoch:  90%|█████████ | 18/20 [01:46<00:11,  5.90s/it]"
     ]
    },
    {
     "name": "stdout",
     "output_type": "stream",
     "text": [
      "Average train loss: 0.007325234279657404\n",
      "Validation loss: 0.5486719608306885\n",
      "Validation Accuracy: 0.9324324324324325\n",
      "Validation F1-Score: 0.7941176470588235\n",
      "\n"
     ]
    },
    {
     "name": "stderr",
     "output_type": "stream",
     "text": [
      "Epoch:  95%|█████████▌| 19/20 [01:52<00:05,  5.90s/it]"
     ]
    },
    {
     "name": "stdout",
     "output_type": "stream",
     "text": [
      "Average train loss: 0.0063827818052636254\n",
      "Validation loss: 0.5486932992935181\n",
      "Validation Accuracy: 0.9324324324324325\n",
      "Validation F1-Score: 0.7941176470588235\n",
      "\n"
     ]
    },
    {
     "name": "stderr",
     "output_type": "stream",
     "text": [
      "Epoch: 100%|██████████| 20/20 [01:58<00:00,  5.91s/it]\n"
     ]
    }
   ],
   "source": [
    "train.main(  \"/notebook/nas-trainings/arne/DGFISMA_term_extraction/DATA/definitions/dgfisma_bio_tag.csv\",\\\n",
    "             \"/notebook/nas-trainings/arne/DGFISMA_term_extraction/MODELS/Fine_tuned_models/dgfisma_bio_tag\",\\\n",
    "             seq_length=75,\\\n",
    "             epochs=20,\\\n",
    "             seed=2020)"
   ]
  },
  {
   "cell_type": "code",
   "execution_count": null,
   "metadata": {},
   "outputs": [],
   "source": [
    "Average train loss: 0.007957037926341096\n",
    "Validation loss: 0.5670990943908691\n",
    "Validation Accuracy: 0.9362934362934363\n",
    "Validation F1-Score: 0.7605633802816902\n"
   ]
  },
  {
   "cell_type": "code",
   "execution_count": 2,
   "metadata": {},
   "outputs": [
    {
     "name": "stdout",
     "output_type": "stream",
     "text": [
      "inference on cpu\n",
      "NER on 22 sentences took 0.5798661708831787 seconds (  1619.3391633276935 words/s ) \n"
     ]
    }
   ],
   "source": [
    "inference.main(  \"/notebook/nas-trainings/arne/DGFISMA_term_extraction/DATA/definitions/test_sentences.txt\",\\\n",
    "             \"/notebook/nas-trainings/arne/DGFISMA_term_extraction/MODELS/Fine_tuned_models/dgfisma_bio_tag\",\\\n",
    "              \"/notebook/nas-trainings/arne/DGFISMA_term_extraction/DATA/definitions/results_test_sentences.csv\"              \n",
    "              )"
   ]
  },
  {
   "cell_type": "code",
   "execution_count": 3,
   "metadata": {},
   "outputs": [
    {
     "name": "stdout",
     "output_type": "stream",
     "text": [
      "              precision    recall  f1-score   support\n",
      "\n",
      "           _       0.86      0.76      0.81        33\n",
      "\n",
      "   micro avg       0.86      0.76      0.81        33\n",
      "   macro avg       0.86      0.76      0.81        33\n",
      "weighted avg       0.86      0.76      0.81        33\n",
      "\n"
     ]
    }
   ],
   "source": [
    "scores=evaluate.main( \"/notebook/nas-trainings/arne/DGFISMA_term_extraction/DATA/definitions/results_test_sentences.csv\", \\\n",
    "                    \"/notebook/nas-trainings/arne/DGFISMA_term_extraction/DATA/definitions/results-gold_standard.csv\"\n",
    ")"
   ]
  },
  {
   "cell_type": "code",
   "execution_count": null,
   "metadata": {},
   "outputs": [],
   "source": []
  },
  {
   "cell_type": "markdown",
   "metadata": {},
   "source": [
    "#### END"
   ]
  }
 ],
 "metadata": {
  "kernelspec": {
   "display_name": "Python 3",
   "language": "python",
   "name": "python3"
  },
  "language_info": {
   "codemirror_mode": {
    "name": "ipython",
    "version": 3
   },
   "file_extension": ".py",
   "mimetype": "text/x-python",
   "name": "python",
   "nbconvert_exporter": "python",
   "pygments_lexer": "ipython3",
   "version": "3.7.3"
  }
 },
 "nbformat": 4,
 "nbformat_minor": 4
}
